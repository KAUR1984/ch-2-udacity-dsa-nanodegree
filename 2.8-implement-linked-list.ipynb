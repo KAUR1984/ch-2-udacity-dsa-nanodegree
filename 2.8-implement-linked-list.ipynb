{
 "cells": [
  {
   "cell_type": "markdown",
   "id": "b61c3df2-e626-432b-aa09-887456ee96c4",
   "metadata": {},
   "source": [
    "## Create a linked list"
   ]
  },
  {
   "cell_type": "code",
   "execution_count": 4,
   "id": "530195c6-3e44-484a-a0c7-55989c7961bb",
   "metadata": {},
   "outputs": [
    {
     "name": "stdout",
     "output_type": "stream",
     "text": [
      "2\n",
      "1\n",
      "4\n",
      "3\n",
      "5\n"
     ]
    }
   ],
   "source": [
    "class Node:\n",
    "    def __init__(self, value):\n",
    "        self.value = value\n",
    "        self.next = None\n",
    "        \n",
    "head = Node(2)\n",
    "head.next = Node(1)\n",
    "head.next.next = Node(4)\n",
    "head.next.next.next = Node(3)\n",
    "head.next.next.next.next = Node(5)\n",
    "\n",
    "# Create a function to automate this feature\n",
    "print(head.value)\n",
    "print(head.next.value)\n",
    "print(head.next.next.value)\n",
    "print(head.next.next.next.value)\n",
    "print(head.next.next.next.next.value)"
   ]
  },
  {
   "cell_type": "code",
   "execution_count": 9,
   "id": "6970ac38-5904-43ad-926c-ca1fd6df2c39",
   "metadata": {},
   "outputs": [
    {
     "name": "stdout",
     "output_type": "stream",
     "text": [
      "2\n",
      "1\n",
      "4\n",
      "3\n",
      "5\n"
     ]
    }
   ],
   "source": [
    "# Create a linked list using iteration\n",
    "def printLinkedList(head):\n",
    "    current_node = head\n",
    "    while current_node is not None:\n",
    "        print(current_node.value)\n",
    "        current_node = current_node.next\n",
    "        \n",
    "printLinkedList(head)"
   ]
  },
  {
   "cell_type": "code",
   "execution_count": 13,
   "id": "cd193727-751b-4ad1-9135-c55f46707978",
   "metadata": {},
   "outputs": [],
   "source": [
    "# Create linked list using iteration\n",
    "def create_linked_list(input_list):\n",
    "    '''Function to create a linked list.\n",
    "    '''\n",
    "    \n",
    "    head = None\n",
    "    \n",
    "    for item in input_list:\n",
    "        if head == None:\n",
    "            head = Node(item)\n",
    "        \n",
    "        else:\n",
    "            curr_node = head\n",
    "            while curr_node.next:\n",
    "                curr_node = curr_node.next\n",
    "            \n",
    "            curr_node.next = Node(item)\n",
    "        \n",
    "    return head"
   ]
  },
  {
   "cell_type": "code",
   "execution_count": 14,
   "id": "3ae7f35f-3003-426e-a39e-0a91467c994e",
   "metadata": {},
   "outputs": [
    {
     "name": "stdout",
     "output_type": "stream",
     "text": [
      "Pass\n",
      "Pass\n",
      "Pass\n"
     ]
    }
   ],
   "source": [
    "### Test Code\n",
    "def test_function(input_list, head):\n",
    "    try:\n",
    "        if len(input_list) == 0:\n",
    "            if head is not None:\n",
    "                print(\"Fail\")\n",
    "                return\n",
    "        for value in input_list:\n",
    "            if head.value != value:\n",
    "                print(\"Fail\")\n",
    "                return\n",
    "            else:\n",
    "                head = head.next\n",
    "        print(\"Pass\")\n",
    "    except Exception as e:\n",
    "        print(\"Fail: \"  + e)\n",
    "        \n",
    "        \n",
    "\n",
    "input_list = [1, 2, 3, 4, 5, 6]\n",
    "head = create_linked_list(input_list)\n",
    "test_function(input_list, head)\n",
    "\n",
    "input_list = [1]\n",
    "head = create_linked_list(input_list)\n",
    "test_function(input_list, head)\n",
    "\n",
    "input_list = []\n",
    "head = create_linked_list(input_list)\n",
    "test_function(input_list, head)\n"
   ]
  },
  {
   "cell_type": "code",
   "execution_count": 21,
   "id": "329f86fa-1188-46b1-ac59-9527e1a7ad2f",
   "metadata": {},
   "outputs": [],
   "source": [
    "def create_linked_list_better(input_list):\n",
    "    head = None\n",
    "    tail = None\n",
    "    \n",
    "    for value in input_list:\n",
    "        if head == None:\n",
    "            head = Node(value)\n",
    "            tail = head\n",
    "        else:\n",
    "            tail.next = Node(value)\n",
    "            tail = tail.next\n",
    "    \n",
    "    return head"
   ]
  },
  {
   "cell_type": "code",
   "execution_count": 22,
   "id": "5412aac7-6a7c-40a6-b9cf-ef8af4173e1e",
   "metadata": {},
   "outputs": [
    {
     "name": "stdout",
     "output_type": "stream",
     "text": [
      "Pass\n",
      "Pass\n",
      "Pass\n"
     ]
    }
   ],
   "source": [
    "### Test Code\n",
    "def test_function(input_list, head):\n",
    "    try:\n",
    "        if len(input_list) == 0:\n",
    "            if head is not None:\n",
    "                print(\"Fail\")\n",
    "                return\n",
    "        for value in input_list:\n",
    "            if head.value != value:\n",
    "                print(\"Fail\")\n",
    "                return\n",
    "            else:\n",
    "                head = head.next\n",
    "        print(\"Pass\")\n",
    "    except Exception as e:\n",
    "        print(\"Fail: \"  + e)\n",
    "        \n",
    "        \n",
    "\n",
    "input_list = [1, 2, 3, 4, 5, 6]\n",
    "head = create_linked_list_better(input_list)\n",
    "test_function(input_list, head)\n",
    "\n",
    "input_list = [1]\n",
    "head = create_linked_list_better(input_list)\n",
    "test_function(input_list, head)\n",
    "\n",
    "input_list = []\n",
    "head = create_linked_list_better(input_list)\n",
    "test_function(input_list, head)"
   ]
  },
  {
   "cell_type": "code",
   "execution_count": 33,
   "id": "124e9163-6c02-4e47-b526-ee21f00d071a",
   "metadata": {},
   "outputs": [],
   "source": [
    "class LinkedList:\n",
    "    def __init__(self):\n",
    "        self.head = None\n",
    "        self.tail = None\n",
    "        \n",
    "    def append(self, value):\n",
    "        if self.head == None:\n",
    "            self.head = Node(value)\n",
    "            self.tail = self.head\n",
    "\n",
    "        else:\n",
    "            self.tail.next = Node(value)\n",
    "            self.tail = self.tail.next\n",
    "            \n",
    "#         Other Approach:\n",
    "#         else:\n",
    "#             # Move to the tail (the last node)\n",
    "#             curr_node = self.head\n",
    "#             while curr_node.next is not None:\n",
    "#                 curr_node = curr_node.next\n",
    "                \n",
    "#             curr_node.next = Node(value)\n",
    "\n",
    "        "
   ]
  },
  {
   "cell_type": "code",
   "execution_count": 34,
   "id": "7bea3520-6c56-499c-8f81-fb8ebe304725",
   "metadata": {},
   "outputs": [
    {
     "name": "stdout",
     "output_type": "stream",
     "text": [
      "1\n",
      "2\n",
      "3\n"
     ]
    }
   ],
   "source": [
    "linked_list = LinkedList()\n",
    "linked_list.append(1)\n",
    "linked_list.append(2)\n",
    "linked_list.append(3)\n",
    "\n",
    "node = linked_list.head\n",
    "while node:\n",
    "    print(node.value)\n",
    "    node = node.next "
   ]
  },
  {
   "cell_type": "code",
   "execution_count": 78,
   "id": "7d5f4499-31a7-4112-8f1c-4af7fad9fc4a",
   "metadata": {},
   "outputs": [],
   "source": [
    "# Exercise: Add a method to_list() to Linkedlist that converts a linked list back to into a python list\n",
    "class MyNode:\n",
    "    def __init__(self, value):\n",
    "        self.value = value\n",
    "        self.next = None\n",
    "\n",
    "class LinkedList:\n",
    "    def __init__(self):\n",
    "        self.head = None\n",
    "        self.tail = None\n",
    "        \n",
    "    def append(self, value):\n",
    "        if self.head == None:\n",
    "            self.head = MyNode(value)\n",
    "            self.tail = self.head\n",
    "            \n",
    "        else:\n",
    "            self.tail.next = MyNode(value)\n",
    "            self.tail = self.tail.next\n",
    "    \n",
    "    # Convert a linked list back into a python list\n",
    "    def to_list(self):\n",
    "        out_list = []\n",
    "        curr_node = self.head\n",
    "        \n",
    "        while curr_node:\n",
    "            out_list.append(curr_node.value)\n",
    "            \n",
    "            # Don't know why it was giving an infinite loop\n",
    "            # if curr_node.next == None:\n",
    "            #     return out_list\n",
    "            \n",
    "            curr_node = curr_node.next\n",
    "        \n",
    "        return out_list"
   ]
  },
  {
   "cell_type": "code",
   "execution_count": 79,
   "id": "444519a2-8f4b-429f-b05e-2bb7f7b86cf0",
   "metadata": {},
   "outputs": [
    {
     "name": "stdout",
     "output_type": "stream",
     "text": [
      "1\n",
      "2\n",
      "3\n"
     ]
    }
   ],
   "source": [
    "linked_list = LinkedList()\n",
    "linked_list.append(1)\n",
    "linked_list.append(2)\n",
    "linked_list.append(3)\n",
    "\n",
    "node = linked_list.head\n",
    "while node:\n",
    "    print(node.value)\n",
    "    node = node.next "
   ]
  },
  {
   "cell_type": "code",
   "execution_count": 80,
   "id": "a52ad568-b7e7-45de-b912-b3a35c86bf7d",
   "metadata": {},
   "outputs": [
    {
     "name": "stdout",
     "output_type": "stream",
     "text": [
      "Pass\n"
     ]
    }
   ],
   "source": [
    "# Test your method here for converting to python list\n",
    "linked_list = LinkedList()\n",
    "linked_list.append(3)\n",
    "linked_list.append(2)\n",
    "linked_list.append(-1)\n",
    "linked_list.append(0.2)\n",
    "\n",
    "print (\"Pass\" if  (linked_list.to_list() == [3, 2, -1, 0.2]) else \"Fail\")"
   ]
  },
  {
   "cell_type": "code",
   "execution_count": 83,
   "id": "5275ee9c-dec7-4df6-8dbe-dfbb386b9620",
   "metadata": {},
   "outputs": [],
   "source": [
    "# Doubly linked list\n",
    "class DoubleNode:\n",
    "    def __init__(self, value):\n",
    "        self.value = value\n",
    "        self.next = None\n",
    "        self.previous = None\n",
    "        \n",
    "class DoublyLinkedList:\n",
    "    def __init__(self):\n",
    "        self.head = None\n",
    "        self.tail = None\n",
    "        \n",
    "    def append(self, value):\n",
    "        if self.head == None:\n",
    "            self.head = DoubleNode(value)\n",
    "            self.tail = self.head\n",
    "        else:\n",
    "            # Step 1: Update the next value of the tail to be value.\n",
    "            self.tail.next = DoubleNode(value)\n",
    "            \n",
    "            # Step 2: Update the previous value of be current value\n",
    "            self.tail.next.previous = self.tail\n",
    "            \n",
    "            # Step 3: Update the tail to be the next element.\n",
    "            self.tail = self.tail.next\n",
    "            \n",
    "        return"
   ]
  },
  {
   "cell_type": "code",
   "execution_count": 84,
   "id": "111270fd-87c7-47d1-bce5-a4c94a68ae73",
   "metadata": {},
   "outputs": [
    {
     "name": "stdout",
     "output_type": "stream",
     "text": [
      "Going forward through the list, should print 1, -2, 4\n",
      "1\n",
      "-2\n",
      "4\n",
      "\n",
      "Going backward through the list, should print 4, -2, 1\n",
      "4\n",
      "-2\n",
      "1\n"
     ]
    }
   ],
   "source": [
    "# Test your class here\n",
    "\n",
    "linked_list = DoublyLinkedList()\n",
    "linked_list.append(1)\n",
    "linked_list.append(-2)\n",
    "linked_list.append(4)\n",
    "\n",
    "print(\"Going forward through the list, should print 1, -2, 4\")\n",
    "node = linked_list.head\n",
    "while node:\n",
    "    print(node.value)\n",
    "    node = node.next\n",
    "\n",
    "print(\"\\nGoing backward through the list, should print 4, -2, 1\")\n",
    "node = linked_list.tail\n",
    "while node:\n",
    "    print(node.value)\n",
    "    node = node.previous"
   ]
  },
  {
   "cell_type": "code",
   "execution_count": null,
   "id": "d5b26c03-4691-4dc7-bb2f-67a56d96b891",
   "metadata": {},
   "outputs": [],
   "source": []
  }
 ],
 "metadata": {
  "kernelspec": {
   "display_name": "Python 3 (ipykernel)",
   "language": "python",
   "name": "python3"
  },
  "language_info": {
   "codemirror_mode": {
    "name": "ipython",
    "version": 3
   },
   "file_extension": ".py",
   "mimetype": "text/x-python",
   "name": "python",
   "nbconvert_exporter": "python",
   "pygments_lexer": "ipython3",
   "version": "3.7.11"
  }
 },
 "nbformat": 4,
 "nbformat_minor": 5
}
