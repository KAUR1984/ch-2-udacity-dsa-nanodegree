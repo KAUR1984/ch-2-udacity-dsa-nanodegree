{
 "cells": [
  {
   "cell_type": "markdown",
   "id": "b61c3df2-e626-432b-aa09-887456ee96c4",
   "metadata": {},
   "source": [
    "## Create a linked list"
   ]
  },
  {
   "cell_type": "code",
   "execution_count": 4,
   "id": "530195c6-3e44-484a-a0c7-55989c7961bb",
   "metadata": {},
   "outputs": [
    {
     "name": "stdout",
     "output_type": "stream",
     "text": [
      "2\n",
      "1\n",
      "4\n",
      "3\n",
      "5\n"
     ]
    }
   ],
   "source": [
    "class Node:\n",
    "    def __init__(self, value):\n",
    "        self.value = value\n",
    "        self.next = None\n",
    "        \n",
    "head = Node(2)\n",
    "head.next = Node(1)\n",
    "head.next.next = Node(4)\n",
    "head.next.next.next = Node(3)\n",
    "head.next.next.next.next = Node(5)\n",
    "\n",
    "# Create a function to automate this feature\n",
    "print(head.value)\n",
    "print(head.next.value)\n",
    "print(head.next.next.value)\n",
    "print(head.next.next.next.value)\n",
    "print(head.next.next.next.next.value)"
   ]
  },
  {
   "cell_type": "code",
   "execution_count": 9,
   "id": "6970ac38-5904-43ad-926c-ca1fd6df2c39",
   "metadata": {},
   "outputs": [
    {
     "name": "stdout",
     "output_type": "stream",
     "text": [
      "2\n",
      "1\n",
      "4\n",
      "3\n",
      "5\n"
     ]
    }
   ],
   "source": [
    "# Create a linked list using iteration\n",
    "\n",
    "def printLinkedList(head):\n",
    "    current_node = head\n",
    "    while current_node is not None:\n",
    "        print(current_node.value)\n",
    "        current_node = current_node.next\n",
    "        \n",
    "printLinkedList(head)"
   ]
  },
  {
   "cell_type": "code",
   "execution_count": null,
   "id": "cd193727-751b-4ad1-9135-c55f46707978",
   "metadata": {},
   "outputs": [],
   "source": []
  }
 ],
 "metadata": {
  "kernelspec": {
   "display_name": "Python 3 (ipykernel)",
   "language": "python",
   "name": "python3"
  },
  "language_info": {
   "codemirror_mode": {
    "name": "ipython",
    "version": 3
   },
   "file_extension": ".py",
   "mimetype": "text/x-python",
   "name": "python",
   "nbconvert_exporter": "python",
   "pygments_lexer": "ipython3",
   "version": "3.7.11"
  }
 },
 "nbformat": 4,
 "nbformat_minor": 5
}
