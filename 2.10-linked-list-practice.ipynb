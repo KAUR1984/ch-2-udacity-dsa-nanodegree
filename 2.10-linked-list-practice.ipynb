{
 "cells": [
  {
   "cell_type": "markdown",
   "id": "d3991d84-6b9b-47b9-88a0-19ae288531c8",
   "metadata": {},
   "source": [
    "# Linked List Practice\n",
    "\n",
    "Implement a linked list class. You have to define a few functions that perform the desirbale action. Your `LinkedList` class should be able to:\n",
    "\n",
    "+ Append data to the tail of the list and prepend to the head\n",
    "+ Search the linked list for a value and return the node\n",
    "+ Remove a node\n",
    "+ Pop, which means to return the first node's value and delete the node from the list\n",
    "+ Insert data at some position in the list\n",
    "+ Return the size (length) of the linked list"
   ]
  },
  {
   "cell_type": "code",
   "execution_count": 3,
   "id": "83c88c2f-24c0-4a85-81c4-5deca9323553",
   "metadata": {},
   "outputs": [],
   "source": [
    "class Node:\n",
    "    def __init__(self, value):\n",
    "        self.value = value\n",
    "        self.next = None\n",
    "        \n",
    "\n",
    "class LinkedList:\n",
    "    def __init__(self):\n",
    "        self.head = None\n",
    "    \n",
    "    def to_list(self):\n",
    "        \n",
    "        # Current pointer\n",
    "        node = self.head\n",
    "        \n",
    "        # Output list\n",
    "        out = []\n",
    "        \n",
    "        # While current node is not None\n",
    "        while node:\n",
    "            out.append(node.value)\n",
    "            node = node.next\n",
    "        \n",
    "        return out"
   ]
  },
  {
   "cell_type": "markdown",
   "id": "f8cd4eed-f62d-4453-bbfc-1a4fa638378f",
   "metadata": {},
   "source": [
    "#### Task 1. Write definition of `prepend()` function and test its functionality"
   ]
  },
  {
   "cell_type": "code",
   "execution_count": 4,
   "id": "ac5a6327-40a6-4db5-a331-ac951eb840ce",
   "metadata": {},
   "outputs": [],
   "source": [
    "# Write the function outside of the class\n",
    "def prepend(self, value):\n",
    "    '''Prepend a value at the beginning of the list.\n",
    "    '''\n",
    "    node = Node(value)\n",
    "    node.next = self.head\n",
    "    self.head = node\n",
    "    \n",
    "# This is a way to add a function to a class after it has been defined\n",
    "LinkedList.prepend = prepend"
   ]
  },
  {
   "cell_type": "code",
   "execution_count": 5,
   "id": "1e1ff1b7-afe8-43e7-be81-02b9c866bf06",
   "metadata": {},
   "outputs": [
    {
     "name": "stdout",
     "output_type": "stream",
     "text": [
      "[5, 4, 3, 2, 1]\n"
     ]
    }
   ],
   "source": [
    "# Test prepend function of linked list\n",
    "linked_list = LinkedList()\n",
    "linked_list.prepend(1)\n",
    "linked_list.prepend(2)\n",
    "linked_list.prepend(3)\n",
    "linked_list.prepend(4)\n",
    "linked_list.prepend(5)\n",
    "\n",
    "assert linked_list.to_list() == [5, 4, 3, 2, 1], f\"list contents: {linked_list.to_list()}\"\n",
    "print(linked_list.to_list())"
   ]
  },
  {
   "cell_type": "markdown",
   "id": "da122c2d-8a35-4fbb-8324-eec69054ff38",
   "metadata": {},
   "source": [
    "#### Task 2. Write definition of `append()` function and test its functionality"
   ]
  },
  {
   "cell_type": "code",
   "execution_count": 6,
   "id": "572d3e4b-8404-4b9e-b351-f5c5c2760135",
   "metadata": {},
   "outputs": [],
   "source": [
    "def append(self, value):\n",
    "    '''Append a value to the end of the list.\n",
    "    '''\n",
    "    if self.head == None:\n",
    "        self.head = Node(value)\n",
    "      \n",
    "    else:\n",
    "        node = self.head\n",
    "        while node.next:\n",
    "            node = node.next\n",
    "        \n",
    "        node.next = Node(value)\n",
    "    \n",
    "LinkedList.append = append"
   ]
  },
  {
   "cell_type": "code",
   "execution_count": 7,
   "id": "2e702cde-f101-4c96-a0d7-82fdaeb121df",
   "metadata": {},
   "outputs": [],
   "source": [
    "# Test linked list append method\n",
    "linked_list = LinkedList()\n",
    "linked_list.append(1)\n",
    "linked_list.append(2)\n",
    "linked_list.append(3)\n",
    "linked_list.append(4)\n",
    "linked_list.append(5)\n",
    "\n",
    "assert linked_list.to_list() == [1, 2, 3, 4, 5], f\"list contents: {linked_list.to_list()}\""
   ]
  },
  {
   "cell_type": "markdown",
   "id": "3aba74ba-d2b6-4376-99c3-b8a197007035",
   "metadata": {},
   "source": [
    "#### Task 3: Write definition of search() function and test its functionality"
   ]
  },
  {
   "cell_type": "code",
   "execution_count": 8,
   "id": "d7af3e1e-1c9c-46ba-b5ea-57d5de348569",
   "metadata": {},
   "outputs": [],
   "source": [
    "def search(self, value):\n",
    "    '''Search the linked list for a node with the requested value \n",
    "    and return the node.\n",
    "    '''\n",
    "    node = self.head\n",
    "    \n",
    "    while node:\n",
    "        if node.value == value:\n",
    "            return node\n",
    "        else:\n",
    "            node = node.next\n",
    "\n",
    "LinkedList.search = search"
   ]
  },
  {
   "cell_type": "code",
   "execution_count": 9,
   "id": "a9156343-3266-4008-8849-a164ebd15250",
   "metadata": {},
   "outputs": [],
   "source": [
    "# Test case\n",
    "\n",
    "linked_list = LinkedList()\n",
    "\n",
    "linked_list.prepend(2)\n",
    "linked_list.prepend(1)\n",
    "linked_list.prepend(3)\n",
    "linked_list.append(4)\n",
    "linked_list.append(3)\n",
    "\n",
    "assert linked_list.search(1).value == 1, f\"list contents: {linked_list.to_list()}\"\n",
    "assert linked_list.search(4).value == 4, f\"list contents: {linked_list.to_list()}\"\n",
    "assert linked_list.search(6) == None, f\"list contents: {linked_list.to_list()}\""
   ]
  },
  {
   "cell_type": "markdown",
   "id": "16d805d9-cfbc-417c-9dc2-b0adcaef1a4e",
   "metadata": {},
   "source": [
    "#### Task 4: Write definition of remove() function and test its functionality"
   ]
  },
  {
   "cell_type": "code",
   "execution_count": 12,
   "id": "b9ec5bfd-56d9-4b45-a917-3bb1cafbdab0",
   "metadata": {},
   "outputs": [],
   "source": [
    "def remove(self, value):\n",
    "    '''Remove first occurence of value.\n",
    "    '''\n",
    "    node = self.head\n",
    "    \n",
    "    if value == self.head.value:\n",
    "        self.head = node.next\n",
    "        return\n",
    "        \n",
    "    \n",
    "    while node.next:\n",
    "        if node.next.value == value:\n",
    "            node.next = node.next.next\n",
    "            return\n",
    "        node = node.next\n",
    "    \n",
    "    raise ValueError(\"Value not found in the list.\")\n",
    "\n",
    "LinkedList.remove = remove "
   ]
  },
  {
   "cell_type": "code",
   "execution_count": 13,
   "id": "4df7a629-f0cd-4e83-ab91-f210177b073a",
   "metadata": {},
   "outputs": [],
   "source": [
    "# Test remove\n",
    "linked_list = LinkedList()\n",
    "linked_list.append(1)\n",
    "linked_list.append(2)\n",
    "linked_list.append(1)\n",
    "linked_list.append(3)\n",
    "linked_list.append(4)\n",
    "linked_list.append(3)\n",
    "\n",
    "linked_list.remove(1)\n",
    "assert linked_list.to_list() == [2, 1, 3, 4, 3], f\"list contents: {linked_list.to_list()}\"\n",
    "linked_list.remove(3)\n",
    "assert linked_list.to_list() == [2, 1, 4, 3], f\"list contents: {linked_list.to_list()}\"\n",
    "linked_list.remove(3)\n",
    "assert linked_list.to_list() == [2, 1, 4], f\"list contents: {linked_list.to_list()}\""
   ]
  },
  {
   "cell_type": "markdown",
   "id": "1df113e8-8d95-4ee0-8f9c-1a0b3a8d845b",
   "metadata": {},
   "source": [
    "#### Task 5. Write definition of `pop()` function and test its functionality"
   ]
  },
  {
   "cell_type": "code",
   "execution_count": 14,
   "id": "a841469d-9029-4f0d-a28d-7e1557068cb0",
   "metadata": {},
   "outputs": [],
   "source": [
    "def pop(self):\n",
    "    '''Return the first node's value and remove it from the list.\n",
    "    '''\n",
    "    if not self.head:\n",
    "        return None\n",
    "    \n",
    "    self.head = self.head.next\n",
    "\n",
    "LinkedList.pop = pop"
   ]
  },
  {
   "cell_type": "code",
   "execution_count": 15,
   "id": "cc6cb836-6b10-4b90-a63f-ac09222b2a05",
   "metadata": {},
   "outputs": [],
   "source": [
    "# Test pop\n",
    "value = linked_list.pop()\n",
    "assert value == 2, f\"List content: {linked_list.to_list()}\""
   ]
  },
  {
   "cell_type": "code",
   "execution_count": null,
   "id": "765eba43-caf9-4272-b750-ac4127eb8f96",
   "metadata": {},
   "outputs": [],
   "source": []
  }
 ],
 "metadata": {
  "kernelspec": {
   "display_name": "Python 3 (ipykernel)",
   "language": "python",
   "name": "python3"
  },
  "language_info": {
   "codemirror_mode": {
    "name": "ipython",
    "version": 3
   },
   "file_extension": ".py",
   "mimetype": "text/x-python",
   "name": "python",
   "nbconvert_exporter": "python",
   "pygments_lexer": "ipython3",
   "version": "3.7.11"
  }
 },
 "nbformat": 4,
 "nbformat_minor": 5
}
