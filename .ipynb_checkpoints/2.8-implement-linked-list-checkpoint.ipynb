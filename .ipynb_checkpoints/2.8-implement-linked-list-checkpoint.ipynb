{
 "cells": [
  {
   "cell_type": "markdown",
   "id": "b61c3df2-e626-432b-aa09-887456ee96c4",
   "metadata": {},
   "source": [
    "## Create a linked list"
   ]
  },
  {
   "cell_type": "code",
   "execution_count": 4,
   "id": "530195c6-3e44-484a-a0c7-55989c7961bb",
   "metadata": {},
   "outputs": [
    {
     "name": "stdout",
     "output_type": "stream",
     "text": [
      "2\n",
      "1\n",
      "4\n",
      "3\n",
      "5\n"
     ]
    }
   ],
   "source": [
    "class Node:\n",
    "    def __init__(self, value):\n",
    "        self.value = value\n",
    "        self.next = None\n",
    "        \n",
    "head = Node(2)\n",
    "head.next = Node(1)\n",
    "head.next.next = Node(4)\n",
    "head.next.next.next = Node(3)\n",
    "head.next.next.next.next = Node(5)\n",
    "\n",
    "# Create a function to automate this feature\n",
    "print(head.value)\n",
    "print(head.next.value)\n",
    "print(head.next.next.value)\n",
    "print(head.next.next.next.value)\n",
    "print(head.next.next.next.next.value)"
   ]
  },
  {
   "cell_type": "code",
   "execution_count": 9,
   "id": "6970ac38-5904-43ad-926c-ca1fd6df2c39",
   "metadata": {},
   "outputs": [
    {
     "name": "stdout",
     "output_type": "stream",
     "text": [
      "2\n",
      "1\n",
      "4\n",
      "3\n",
      "5\n"
     ]
    }
   ],
   "source": [
    "# Create a linked list using iteration\n",
    "def printLinkedList(head):\n",
    "    current_node = head\n",
    "    while current_node is not None:\n",
    "        print(current_node.value)\n",
    "        current_node = current_node.next\n",
    "        \n",
    "printLinkedList(head)"
   ]
  },
  {
   "cell_type": "code",
   "execution_count": 13,
   "id": "cd193727-751b-4ad1-9135-c55f46707978",
   "metadata": {},
   "outputs": [],
   "source": [
    "# Create linked list using iteration\n",
    "def create_linked_list(input_list):\n",
    "    '''Function to create a linked list.\n",
    "    '''\n",
    "    \n",
    "    head = None\n",
    "    \n",
    "    for item in input_list:\n",
    "        if head == None:\n",
    "            head = Node(item)\n",
    "        \n",
    "        else:\n",
    "            curr_node = head\n",
    "            while curr_node.next:\n",
    "                curr_node = curr_node.next\n",
    "            \n",
    "            curr_node.next = Node(item)\n",
    "        \n",
    "    return head"
   ]
  },
  {
   "cell_type": "code",
   "execution_count": 14,
   "id": "3ae7f35f-3003-426e-a39e-0a91467c994e",
   "metadata": {},
   "outputs": [
    {
     "name": "stdout",
     "output_type": "stream",
     "text": [
      "Pass\n",
      "Pass\n",
      "Pass\n"
     ]
    }
   ],
   "source": [
    "### Test Code\n",
    "def test_function(input_list, head):\n",
    "    try:\n",
    "        if len(input_list) == 0:\n",
    "            if head is not None:\n",
    "                print(\"Fail\")\n",
    "                return\n",
    "        for value in input_list:\n",
    "            if head.value != value:\n",
    "                print(\"Fail\")\n",
    "                return\n",
    "            else:\n",
    "                head = head.next\n",
    "        print(\"Pass\")\n",
    "    except Exception as e:\n",
    "        print(\"Fail: \"  + e)\n",
    "        \n",
    "        \n",
    "\n",
    "input_list = [1, 2, 3, 4, 5, 6]\n",
    "head = create_linked_list(input_list)\n",
    "test_function(input_list, head)\n",
    "\n",
    "input_list = [1]\n",
    "head = create_linked_list(input_list)\n",
    "test_function(input_list, head)\n",
    "\n",
    "input_list = []\n",
    "head = create_linked_list(input_list)\n",
    "test_function(input_list, head)\n"
   ]
  },
  {
   "cell_type": "code",
   "execution_count": 21,
   "id": "329f86fa-1188-46b1-ac59-9527e1a7ad2f",
   "metadata": {},
   "outputs": [],
   "source": [
    "def create_linked_list_better(input_list):\n",
    "    head = None\n",
    "    tail = None\n",
    "    \n",
    "    for value in input_list:\n",
    "        if head == None:\n",
    "            head = Node(value)\n",
    "            tail = head\n",
    "        else:\n",
    "            tail.next = Node(value)\n",
    "            tail = tail.next\n",
    "    \n",
    "    return head"
   ]
  },
  {
   "cell_type": "code",
   "execution_count": 22,
   "id": "5412aac7-6a7c-40a6-b9cf-ef8af4173e1e",
   "metadata": {},
   "outputs": [
    {
     "name": "stdout",
     "output_type": "stream",
     "text": [
      "Pass\n",
      "Pass\n",
      "Pass\n"
     ]
    }
   ],
   "source": [
    "### Test Code\n",
    "def test_function(input_list, head):\n",
    "    try:\n",
    "        if len(input_list) == 0:\n",
    "            if head is not None:\n",
    "                print(\"Fail\")\n",
    "                return\n",
    "        for value in input_list:\n",
    "            if head.value != value:\n",
    "                print(\"Fail\")\n",
    "                return\n",
    "            else:\n",
    "                head = head.next\n",
    "        print(\"Pass\")\n",
    "    except Exception as e:\n",
    "        print(\"Fail: \"  + e)\n",
    "        \n",
    "        \n",
    "\n",
    "input_list = [1, 2, 3, 4, 5, 6]\n",
    "head = create_linked_list_better(input_list)\n",
    "test_function(input_list, head)\n",
    "\n",
    "input_list = [1]\n",
    "head = create_linked_list_better(input_list)\n",
    "test_function(input_list, head)\n",
    "\n",
    "input_list = []\n",
    "head = create_linked_list_better(input_list)\n",
    "test_function(input_list, head)"
   ]
  },
  {
   "cell_type": "code",
   "execution_count": 33,
   "id": "124e9163-6c02-4e47-b526-ee21f00d071a",
   "metadata": {},
   "outputs": [],
   "source": [
    "class LinkedList:\n",
    "    def __init__(self):\n",
    "        self.head = None\n",
    "        self.tail = None\n",
    "        \n",
    "    def append(self, value):\n",
    "        if self.head == None:\n",
    "            self.head = Node(value)\n",
    "            self.tail = self.head\n",
    "\n",
    "        else:\n",
    "            self.tail.next = Node(value)\n",
    "            self.tail = self.tail.next\n",
    "            \n",
    "#         Other Approach:\n",
    "#         else:\n",
    "#             # Move to the tail (the last node)\n",
    "#             curr_node = self.head\n",
    "#             while curr_node.next is not None:\n",
    "#                 curr_node = curr_node.next\n",
    "                \n",
    "#             curr_node.next = Node(value)\n",
    "\n",
    "        "
   ]
  },
  {
   "cell_type": "code",
   "execution_count": 34,
   "id": "7bea3520-6c56-499c-8f81-fb8ebe304725",
   "metadata": {},
   "outputs": [
    {
     "name": "stdout",
     "output_type": "stream",
     "text": [
      "1\n",
      "2\n",
      "3\n"
     ]
    }
   ],
   "source": [
    "linked_list = LinkedList()\n",
    "linked_list.append(1)\n",
    "linked_list.append(2)\n",
    "linked_list.append(3)\n",
    "\n",
    "node = linked_list.head\n",
    "while node:\n",
    "    print(node.value)\n",
    "    node = node.next "
   ]
  },
  {
   "cell_type": "code",
   "execution_count": null,
   "id": "7d5f4499-31a7-4112-8f1c-4af7fad9fc4a",
   "metadata": {},
   "outputs": [],
   "source": []
  }
 ],
 "metadata": {
  "kernelspec": {
   "display_name": "Python 3 (ipykernel)",
   "language": "python",
   "name": "python3"
  },
  "language_info": {
   "codemirror_mode": {
    "name": "ipython",
    "version": 3
   },
   "file_extension": ".py",
   "mimetype": "text/x-python",
   "name": "python",
   "nbconvert_exporter": "python",
   "pygments_lexer": "ipython3",
   "version": "3.7.11"
  }
 },
 "nbformat": 4,
 "nbformat_minor": 5
}
