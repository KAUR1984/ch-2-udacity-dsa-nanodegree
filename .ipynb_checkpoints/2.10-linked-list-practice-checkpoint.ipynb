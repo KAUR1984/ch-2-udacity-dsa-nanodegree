{
 "cells": [
  {
   "cell_type": "markdown",
   "id": "d3991d84-6b9b-47b9-88a0-19ae288531c8",
   "metadata": {},
   "source": [
    "# Linked List Practice\n",
    "\n",
    "Implement a linked list class. You have to define a few functions that perform the desirbale action. Your `LinkedList` class should be able to:\n",
    "\n",
    "+ Append data to the tail of the list and prepend to the head\n",
    "+ Search the linked list for a value and return the node\n",
    "+ Remove a node\n",
    "+ Pop, which means to return the first node's value and delete the node from the list\n",
    "+ Insert data at some position in the list\n",
    "+ Return the size (length) of the linked list"
   ]
  },
  {
   "cell_type": "code",
   "execution_count": 3,
   "id": "83c88c2f-24c0-4a85-81c4-5deca9323553",
   "metadata": {},
   "outputs": [],
   "source": [
    "class Node:\n",
    "    def __init__(self, value):\n",
    "        self.value = value\n",
    "        self.next = None\n",
    "        \n",
    "\n",
    "class LinkedList:\n",
    "    def __init__(self):\n",
    "        self.head = None\n",
    "    \n",
    "    def to_list(self):\n",
    "        \n",
    "        # Current pointer\n",
    "        node = self.head\n",
    "        \n",
    "        # Output list\n",
    "        out = []\n",
    "        \n",
    "        # While current node is not None\n",
    "        while node:\n",
    "            out.append(node.value)\n",
    "            node = node.next\n",
    "        \n",
    "        return out"
   ]
  },
  {
   "cell_type": "markdown",
   "id": "f8cd4eed-f62d-4453-bbfc-1a4fa638378f",
   "metadata": {},
   "source": [
    "#### Task 1. Write definition of `prepend()` function and test its functionality"
   ]
  },
  {
   "cell_type": "code",
   "execution_count": 7,
   "id": "ac5a6327-40a6-4db5-a331-ac951eb840ce",
   "metadata": {},
   "outputs": [],
   "source": [
    "# Write the function outside of the class\n",
    "def prepend(self, value):\n",
    "    '''Prepend a value at the beginning of the list.\n",
    "    '''\n",
    "    node = Node(value)\n",
    "    node.next = self.head\n",
    "    self.head = node\n",
    "    \n",
    "# This is a way to add a function to a class after it has been defined\n",
    "LinkedList.prepend = prepend"
   ]
  },
  {
   "cell_type": "code",
   "execution_count": 10,
   "id": "1e1ff1b7-afe8-43e7-be81-02b9c866bf06",
   "metadata": {},
   "outputs": [
    {
     "name": "stdout",
     "output_type": "stream",
     "text": [
      "[5, 4, 3, 2, 1]\n"
     ]
    }
   ],
   "source": [
    "# Test prepend function of linked list\n",
    "linked_list = LinkedList()\n",
    "linked_list.prepend(1)\n",
    "linked_list.prepend(2)\n",
    "linked_list.prepend(3)\n",
    "linked_list.prepend(4)\n",
    "linked_list.prepend(5)\n",
    "\n",
    "assert linked_list.to_list() == [5, 4, 3, 2, 1], f\"list contents: {linked_list.to_list()}\"\n",
    "print(linked_list.to_list())"
   ]
  },
  {
   "cell_type": "markdown",
   "id": "da122c2d-8a35-4fbb-8324-eec69054ff38",
   "metadata": {},
   "source": [
    "#### Task 2. Write definition of `append()` function and test its functionality"
   ]
  },
  {
   "cell_type": "code",
   "execution_count": null,
   "id": "572d3e4b-8404-4b9e-b351-f5c5c2760135",
   "metadata": {},
   "outputs": [],
   "source": [
    "def append(self, value):\n",
    "    '''Append a value to the end of the list.\n",
    "    '''\n",
    "    "
   ]
  }
 ],
 "metadata": {
  "kernelspec": {
   "display_name": "Python 3 (ipykernel)",
   "language": "python",
   "name": "python3"
  },
  "language_info": {
   "codemirror_mode": {
    "name": "ipython",
    "version": 3
   },
   "file_extension": ".py",
   "mimetype": "text/x-python",
   "name": "python",
   "nbconvert_exporter": "python",
   "pygments_lexer": "ipython3",
   "version": "3.7.11"
  }
 },
 "nbformat": 4,
 "nbformat_minor": 5
}
