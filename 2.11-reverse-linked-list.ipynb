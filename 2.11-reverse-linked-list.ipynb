{
 "cells": [
  {
   "cell_type": "code",
   "execution_count": null,
   "id": "2314fc49-54fa-406e-9467-ba25b2150e63",
   "metadata": {},
   "outputs": [],
   "source": [
    "# Reverse a linked list\n",
    "class Node:\n",
    "    def __init__(self, value):\n",
    "        self.value = value\n",
    "        self.next = None\n",
    "\n",
    "        \n",
    "class LinkedList:\n",
    "    def __init__(self):\n",
    "        self.head = None\n",
    "        \n",
    "    \n",
    "    def append(self, value):\n",
    "        if self.head is None:\n",
    "            self.head = Node(value)\n",
    "            \n",
    "        else:\n",
    "            node = self.head\n",
    "            while node:\n",
    "                node = node.next\n",
    "                \n",
    "            node.next = Node(value)\n",
    "    \n",
    "    \n",
    "    def __iter__(self):\n",
    "        node = self.head\n",
    "        \n",
    "        while node:\n",
    "            yield node.value\n",
    "            node = node.next\n",
    "    \n",
    "    \n",
    "    def __repr__(self):\n",
    "        return str([v for v in self])"
   ]
  }
 ],
 "metadata": {
  "kernelspec": {
   "display_name": "Python 3 (ipykernel)",
   "language": "python",
   "name": "python3"
  },
  "language_info": {
   "codemirror_mode": {
    "name": "ipython",
    "version": 3
   },
   "file_extension": ".py",
   "mimetype": "text/x-python",
   "name": "python",
   "nbconvert_exporter": "python",
   "pygments_lexer": "ipython3",
   "version": "3.7.11"
  }
 },
 "nbformat": 4,
 "nbformat_minor": 5
}
