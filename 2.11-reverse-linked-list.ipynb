{
 "cells": [
  {
   "cell_type": "code",
   "execution_count": 7,
   "id": "2314fc49-54fa-406e-9467-ba25b2150e63",
   "metadata": {},
   "outputs": [],
   "source": [
    "# Reverse a linked list\n",
    "class Node:\n",
    "    def __init__(self, value):\n",
    "        self.value = value\n",
    "        self.next = None\n",
    "\n",
    "        \n",
    "class LinkedList:\n",
    "    def __init__(self):\n",
    "        self.head = None\n",
    "        \n",
    "    \n",
    "    def append(self, value):\n",
    "        if self.head is None:\n",
    "            self.head = Node(value)\n",
    "            \n",
    "        else:\n",
    "            node = self.head\n",
    "\n",
    "            # check the lhs bucket not None\n",
    "            while node.next:\n",
    "                node = node.next\n",
    "                \n",
    "            node.next = Node(value)\n",
    "    \n",
    "    \n",
    "    def __iter__(self):\n",
    "        node = self.head\n",
    "        \n",
    "        while node:\n",
    "            yield node.value\n",
    "            node = node.next\n",
    "    \n",
    "    \n",
    "    def __repr__(self):\n",
    "        return str([v for v in self])"
   ]
  },
  {
   "cell_type": "code",
   "execution_count": 29,
   "id": "d2bec3a6-c7ae-411b-b1bb-e9440038d134",
   "metadata": {},
   "outputs": [],
   "source": [
    "def reverse(linked_list):\n",
    "    reversed_list = LinkedList()\n",
    "    \n",
    "    node = linked_list.head\n",
    "    while node:\n",
    "        reversed_list.prepend(node.value)\n",
    "        node = node.next\n",
    "    \n",
    "    return reversed_list\n",
    "\n",
    "\n",
    "def prepend(self, value):\n",
    "    if self.head is None:\n",
    "        self.head = Node(value)\n",
    "        \n",
    "    else:\n",
    "        new_head = Node(value)\n",
    "        new_head.next = self.head\n",
    "        self.head = new_head\n",
    "        \n",
    "\n",
    "LinkedList.prepend = prepend"
   ]
  },
  {
   "cell_type": "code",
   "execution_count": 30,
   "id": "4f958b19-da75-4deb-a9ab-309c46468cf2",
   "metadata": {},
   "outputs": [
    {
     "name": "stdout",
     "output_type": "stream",
     "text": [
      "Pass\n"
     ]
    }
   ],
   "source": [
    "# Test linked list reverse method\n",
    "llist = LinkedList()\n",
    "for value in [4,2,5,1,-3,0]:\n",
    "    llist.append(value)\n",
    "\n",
    "flipped = reverse(llist)\n",
    "is_correct = list(flipped) == list([0,-3,1,5,2,4]) and list(llist) == list(reverse(flipped))\n",
    "\n",
    "print(\"Pass\" if is_correct else f\"Fail, List contents: {list(llist)}\")"
   ]
  },
  {
   "cell_type": "code",
   "execution_count": 28,
   "id": "2cdb6f77-40f4-408b-a9da-85535930a300",
   "metadata": {},
   "outputs": [],
   "source": [
    "# Udacity solution\n",
    "def reverse_udacity(linked_list)\n",
    "\n",
    "    # Step 0: Create a new reversed linked list\n",
    "    new_list = LinkedList()\n",
    "    prev_node = None\n",
    "    \n",
    "    # Step 1: Traverse through the given linked list, and reverse the list\n",
    "    for value in linked_list:\n",
    "        \n",
    "        # Step 2: Create a new node for each of the values traversed\n",
    "        new_node = Node(value)\n",
    "        \n",
    "        # Step 3: The next node of this new node is previous node (flipping directions)\n",
    "        new_node.next = prev_node\n",
    "        \n",
    "        # Step 4: Update the previous node to be the current one\n",
    "        prev_node = new_node\n",
    "        \n",
    "    # Step 5: Return the new reversed list head. This is previous node, as by now prev_node has traversed through to end.\n",
    "    new_list.head = prev_node\n",
    "    \n",
    "    return new_list"
   ]
  },
  {
   "cell_type": "code",
   "execution_count": null,
   "id": "acba5deb-fd5b-4e0e-9a81-11b06f69405c",
   "metadata": {},
   "outputs": [],
   "source": []
  }
 ],
 "metadata": {
  "kernelspec": {
   "display_name": "Python 3 (ipykernel)",
   "language": "python",
   "name": "python3"
  },
  "language_info": {
   "codemirror_mode": {
    "name": "ipython",
    "version": 3
   },
   "file_extension": ".py",
   "mimetype": "text/x-python",
   "name": "python",
   "nbconvert_exporter": "python",
   "pygments_lexer": "ipython3",
   "version": "3.7.11"
  }
 },
 "nbformat": 4,
 "nbformat_minor": 5
}
