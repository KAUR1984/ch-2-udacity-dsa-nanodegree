{
 "cells": [
  {
   "cell_type": "markdown",
   "id": "075fa557-6fd3-4830-9dc3-22ca0f0268ed",
   "metadata": {},
   "source": [
    "## Strings Exercises"
   ]
  },
  {
   "cell_type": "markdown",
   "id": "6b88308d-c006-4a02-8552-bd9c8adaafe9",
   "metadata": {},
   "source": [
    "### Introduction\n",
    "\n",
    "Python Strings are Arrays. They are arrays of bytes representing unicode characters. We can assign a string literal enclosed in a single quotation  (`'Udacity'`) or double quotation  (`\"Udacity\"`) marks to a variable. \n",
    "```\n",
    "str1 = \"Udacity\"\n",
    "```\n",
    "#### Common String Methods\n",
    "Let us see some common methods that we use on string variables. [Refer here for more](https://docs.python.org/3/library/stdtypes.html#string-methods)"
   ]
  },
  {
   "cell_type": "code",
   "execution_count": 1,
   "id": "edf29cb8-54cb-4c3f-b5f7-06d5ce4f00b6",
   "metadata": {},
   "outputs": [
    {
     "name": "stdout",
     "output_type": "stream",
     "text": [
      "7\n",
      "udacity\n",
      "UDACITY\n",
      "dacit\n",
      "Udacit\n",
      "dacity\n",
      "dacit\n",
      "Udacity\n",
      "UdacitB\n",
      "['Welcome', ' Constance!']\n",
      "Welcome, Constance! Udacity\n",
      "Welcome, Constance! You have scored a perfect 100\n",
      "[' ', '!', ',', 'C', 'W', 'a', 'c', 'c', 'e', 'e', 'e', 'l', 'm', 'n', 'n', 'o', 'o', 's', 't']\n"
     ]
    }
   ],
   "source": [
    "str1 = \"Udacity\"\n",
    "\n",
    "\n",
    "# LENGTH\n",
    "print(len(str1))\t\t# 7\n",
    "\n",
    "\n",
    "# CHANGE CASE\n",
    "# The `lower()` and `upper` method returns the string in lower case and upper case respectively\n",
    "print(str1.lower())\t\t# udacity\n",
    "print(str1.upper())\t\t# UDACITY\n",
    "\n",
    "\n",
    "# SLICING\n",
    "# string_var[lower_index : upper_index]\n",
    "# Note that the upper_index is not inclusive.\n",
    "print(str1[1:6]) \t\t# dacit\n",
    "print(str1[:6])\t\t\t# Udacit. A blank index means \"all from that end\"\n",
    "print(str1[1:])\t\t\t# dacity\n",
    "\n",
    "# A negative index means start slicing from the end-of-string\n",
    "print(str1[-6:-1])\t\t# dacit\n",
    "\n",
    "\n",
    "# STRIP\n",
    "# `strip()` removes any whitespace from the beginning or the end\n",
    "str2 = \"    Udacity    \"\n",
    "print(str2.strip())\t\t# Udacity\n",
    "\n",
    "\n",
    "# REPLACE/SUBSTITUTE A CHARACTER IN THE STRING\n",
    "# The replace() method replaces all occurances a character in a string with another character. The input arguments are case-sensitive\n",
    "print(str1.replace('y', \"B\")) #UdacitB\n",
    "\n",
    "\n",
    "# SPLIT INTO SUB-STRINGS\n",
    "# The split() method splits a string into substrings based on the separator that we specify as argument\n",
    "str3 = \"Welcome, Constance!\"\n",
    "print(str3.split(\",\")) # ['Welcome', ' Constance!']\n",
    "\n",
    "\n",
    "# CONCATENATION\n",
    "print(str3 + \" \" + str1) # Welcome, Constance! Udacity\n",
    "marks = 100\n",
    "# print(str3 + \" You have scored a perfect \" + marks) # TypeError: can only concatenate str (not \"int\") to str\n",
    "print(str3 + \" You have scored a perfect \" + format(marks)) # format() method converts the argument as a formatted string\n",
    "\n",
    "\n",
    "# SORT A STRING\n",
    "# We can use sorted() method that sort any instance of *iterable*. The characters are compared based on their ascii value\n",
    "print(sorted(str3)) # [' ', '!', ',', 'C', 'W', 'a', 'c', 'c', 'e', 'e', 'e', 'l', 'm', 'n', 'n', 'o', 'o', 's', 't']\n"
   ]
  },
  {
   "cell_type": "markdown",
   "id": "928d8c8c-b729-4176-b895-8d52e5bbef97",
   "metadata": {},
   "source": [
    "Let us do some exercises to practice our work with string manipulation. \n",
    "\n",
    "#### Exercise 1. Reverse Strings"
   ]
  },
  {
   "cell_type": "markdown",
   "id": "260253a4-7fcd-4b62-9cf7-c89b59c99fad",
   "metadata": {},
   "source": [
    "In this first exercise, the goal is to write a function that takes a string as input and then returns the reversed string.\n",
    "\n",
    "For example, if the input is the string `\"water\"`, then the output should be `\"retaw\"`.\n",
    "\n",
    "While you're working on the function and trying to figure out how to manipulate the string, it may help to use the `print` statement so you can see the effects of whatever you're trying."
   ]
  },
  {
   "cell_type": "code",
   "execution_count": 13,
   "id": "da2692f3-eaa2-4bca-b4d2-fd98b24d99c9",
   "metadata": {},
   "outputs": [],
   "source": [
    "# Code\n",
    "\n",
    "def string_reverser(our_string):\n",
    "\n",
    "    \"\"\"\n",
    "    Reverse the input string\n",
    "\n",
    "    Args:\n",
    "       our_string(string): String to be reversed\n",
    "    Returns:\n",
    "       string: The reversed string\n",
    "    \"\"\"\n",
    "    \n",
    "    # TODO: Write your solution here\n",
    "    # Approach -1 \n",
    "#     i = -1\n",
    "#     new_string = ''\n",
    "    \n",
    "#     while i*-1 <= len(our_string):\n",
    "#         new_string += our_string[i]\n",
    "#         i += -1\n",
    "    \n",
    "#     return new_string\n",
    "\n",
    "    # Approach -2\n",
    "    new_string = ''\n",
    "    \n",
    "    for i in range(len(our_string)):\n",
    "        new_string += our_string[len(our_string) - i - 1]\n",
    "    \n",
    "    return new_string"
   ]
  },
  {
   "cell_type": "code",
   "execution_count": 14,
   "id": "7eb71b5c-ef99-4c93-9731-6f7ae3487574",
   "metadata": {},
   "outputs": [
    {
     "name": "stdout",
     "output_type": "stream",
     "text": [
      "Pass\n",
      "Pass\n",
      "Pass\n"
     ]
    }
   ],
   "source": [
    "# Test Cases\n",
    "\n",
    "print (\"Pass\" if ('retaw' == string_reverser('water')) else \"Fail\")\n",
    "print (\"Pass\" if ('!noitalupinam gnirts gnicitcarP' == string_reverser('Practicing string manipulation!')) else \"Fail\")\n",
    "print (\"Pass\" if ('3432 :si edoc esuoh ehT' == string_reverser('The house code is: 2343')) else \"Fail\")"
   ]
  },
  {
   "cell_type": "markdown",
   "id": "b6b1128b-77f2-4ba8-a386-ad87f32ef6d6",
   "metadata": {},
   "source": [
    "#### Exercise 2.  Anagrams"
   ]
  },
  {
   "cell_type": "markdown",
   "id": "8d4ec79c-6a64-4f85-825d-611bc491e30c",
   "metadata": {},
   "source": [
    "The goal of this exercise is to write some code to determine if two strings are anagrams of each other.\n",
    "\n",
    "An anagram is a word (or phrase) that is formed by rearranging the letters of another word (or phrase).\n",
    "\n",
    "For example:\n",
    "- \"rat\" is an anagram of \"art\"\n",
    "- \"alert\" is an anagram of \"alter\"\n",
    "- \"Slot machines\" is an anagram of \"Cash lost in me\"\n",
    "\n",
    "Your function should take two strings as input and return `True` if the two words are anagrams and `False` if they are not.\n",
    "\n",
    "You can assume the following about the input strings:\n",
    "- No punctuation\n",
    "- No numbers\n",
    "- No special characters\n",
    "\n",
    "Note - You can use built-in methods `replace()`, `lower()` and `sorted()` on strings. "
   ]
  },
  {
   "cell_type": "code",
   "execution_count": 57,
   "id": "3f80b3e3-f551-401b-b50d-aa849ccdc246",
   "metadata": {},
   "outputs": [],
   "source": [
    "# Code\n",
    "\n",
    "def anagram_checker(str1, str2):\n",
    "\n",
    "    \"\"\"\n",
    "    Check if the input strings are anagrams of each other\n",
    "\n",
    "    Args:\n",
    "       str1(string),str2(string): Strings to be checked\n",
    "    Returns:\n",
    "       bool: Indicates whether strings are anagrams\n",
    "    \"\"\"\n",
    "    \n",
    "    # TODO: Write your solution here\n",
    "    \n",
    "    # Step 1: Convert string lower case. \n",
    "    # Step 2: Sort the string.\n",
    "    # Step 3: Remove whitespaces.\n",
    "    # Step 4: Check if the sorted versions of two strings are the same.\n",
    "    \n",
    "    sorted_str1 = ''.join(sorted(str1.lower())).strip()\n",
    "    sorted_str2 = ''.join(sorted(str2.lower())).strip()\n",
    "    \n",
    "    return sorted_str1 == sorted_str2"
   ]
  },
  {
   "cell_type": "code",
   "execution_count": 58,
   "id": "665dae5e-7bb7-4a78-ada1-5c445f40eb88",
   "metadata": {},
   "outputs": [
    {
     "name": "stdout",
     "output_type": "stream",
     "text": [
      "Pass\n",
      "Pass\n",
      "Pass\n",
      "Pass\n",
      "Pass\n"
     ]
    }
   ],
   "source": [
    "# Test Cases\n",
    "\n",
    "print (\"Pass\" if not (anagram_checker('water','waiter')) else \"Fail\")\n",
    "print (\"Pass\" if anagram_checker('Dormitory','Dirty room') else \"Fail\")\n",
    "print (\"Pass\" if anagram_checker('Slot machines', 'Cash lost in me') else \"Fail\")\n",
    "print (\"Pass\" if not (anagram_checker('A gentleman','Elegant men')) else \"Fail\")\n",
    "print (\"Pass\" if anagram_checker('Time and tide wait for no man','Notified madman into water') else \"Fail\")"
   ]
  },
  {
   "cell_type": "markdown",
   "id": "25de95da-37ea-451e-817e-0ce867a9dd10",
   "metadata": {},
   "source": [
    "#### Exercise 3.  Reverse the words in sentence"
   ]
  },
  {
   "cell_type": "markdown",
   "id": "11f64712-067d-42aa-b123-049c01ceb165",
   "metadata": {},
   "source": [
    "Given a sentence, reverse each word in the sentence while keeping the order the same!"
   ]
  },
  {
   "cell_type": "code",
   "execution_count": 59,
   "id": "5c1e8a9f-5706-4ac1-b144-b4477039dd88",
   "metadata": {},
   "outputs": [],
   "source": [
    "# Code \n",
    "\n",
    "def word_flipper(our_string):\n",
    "\n",
    "    \"\"\"\n",
    "    Flip the individual words in a sentence\n",
    "\n",
    "    Args:\n",
    "       our_string(string): String with words to flip\n",
    "    Returns:\n",
    "       string: String with words flipped\n",
    "    \"\"\"\n",
    "    \n",
    "    # TODO: Write your solution here\n",
    "    \n",
    "    pass\n",
    "    "
   ]
  },
  {
   "cell_type": "code",
   "execution_count": 60,
   "id": "c4c73f29-edc2-45ac-adf4-d0e7e62e2f55",
   "metadata": {},
   "outputs": [
    {
     "name": "stdout",
     "output_type": "stream",
     "text": [
      "Fail\n",
      "Fail\n",
      "Fail\n"
     ]
    }
   ],
   "source": [
    "# Test Cases\n",
    "\n",
    "print (\"Pass\" if ('retaw' == word_flipper('water')) else \"Fail\")\n",
    "print (\"Pass\" if ('sihT si na elpmaxe' == word_flipper('This is an example')) else \"Fail\")\n",
    "print (\"Pass\" if ('sihT si eno llams pets rof ...' == word_flipper('This is one small step for ...')) else \"Fail\")"
   ]
  },
  {
   "cell_type": "code",
   "execution_count": null,
   "id": "f5b0153b-73f4-4686-a099-56999030cb05",
   "metadata": {},
   "outputs": [],
   "source": []
  }
 ],
 "metadata": {
  "kernelspec": {
   "display_name": "Python 3 (ipykernel)",
   "language": "python",
   "name": "python3"
  },
  "language_info": {
   "codemirror_mode": {
    "name": "ipython",
    "version": 3
   },
   "file_extension": ".py",
   "mimetype": "text/x-python",
   "name": "python",
   "nbconvert_exporter": "python",
   "pygments_lexer": "ipython3",
   "version": "3.7.11"
  }
 },
 "nbformat": 4,
 "nbformat_minor": 5
}
